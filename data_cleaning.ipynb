{
 "cells": [
  {
   "cell_type": "code",
   "execution_count": 1,
   "id": "8d02371d-0a70-4c24-9fc9-2d5946d4965b",
   "metadata": {},
   "outputs": [],
   "source": [
    "# Importing modules\n",
    "import pandas as pd\n",
    "import requests, zipfile\n",
    "from io import BytesIO"
   ]
  },
  {
   "cell_type": "code",
   "execution_count": 2,
   "id": "21e94ea8-580d-4b37-8b2e-7ec4fdcd4ac5",
   "metadata": {},
   "outputs": [
    {
     "name": "stdout",
     "output_type": "stream",
     "text": [
      "Beginning Download...\n",
      "Download Complete.\n"
     ]
    }
   ],
   "source": [
    "# Downloading the data\n",
    "print(\"Beginning Download...\")\n",
    "\n",
    "# Defining the zip file URL\n",
    "url = \"https://meps.ahrq.gov/mepsweb/data_files/pufs/h209/h209xlsx.zip\"\n",
    "\n",
    "# Split URL to get the file name\n",
    "filename = url.split('/')[-1]\n",
    "\n",
    "# Downloading the file by sending the request to the URL\n",
    "req = requests.get(url)\n",
    "print('Download Complete.')\n",
    "\n",
    "# extracting the zip file contents\n",
    "zipfile= zipfile.ZipFile(BytesIO(req.content))\n",
    "zipfile.extractall('./Resources')"
   ]
  },
  {
   "cell_type": "code",
   "execution_count": null,
   "id": "566fa300-929a-4d6b-b4a7-96208f079796",
   "metadata": {},
   "outputs": [
    {
     "name": "stdout",
     "output_type": "stream",
     "text": [
      "Reading Excel File...\n"
     ]
    }
   ],
   "source": [
    "# Converting Data from .xlsx to .csv and then to DataFrame\n",
    "# Initializing needed column list\n",
    "col_list = ['DUID', 'FAMSZE18', 'REGION18', 'ENDRFY18', 'AGE18X', 'SEX', 'RACEV2X', 'EDUCYR', 'HIDEG', 'TTLP18X', 'ADBMI42', 'ADOFTB42', 'UNINS18', 'TOTEXP18', 'TOTSLF18', 'TOTMCR18', 'TOTMCD18', 'TOTVA18', 'TOTPTR18', 'TOTOTH18'] \n",
    "\n",
    "# Reading necessary columns from excel\n",
    "print(\"Reading Excel File...\")\n",
    "excel = pd.read_excel('./Resources/h209.xlsx', usecols=col_list)\n",
    "\n",
    "# Converting to CSV for faster processing\n",
    "print(\"Coverting Excel File to CSV...\")\n",
    "excel.to_csv(\"./Resources/2018_FYC.csv\", index=None, header=True)\n",
    "\n",
    "# Reading CSV into DF\n",
    "print(\"Reading CSV into DataFrame...\")\n",
    "df_raw = pd.DataFrame(pd.read_csv(\"./Resources/2018_FYC.csv\"))\n",
    "\n",
    "# Reviewing DataFrame\n",
    "print(\"Conversion Complete.\")\n",
    "df_raw.head()"
   ]
  },
  {
   "cell_type": "code",
   "execution_count": null,
   "id": "4b3c1081-3a4f-4518-8e32-9e7ba528e2e1",
   "metadata": {},
   "outputs": [],
   "source": [
    "# Cleaning Data\n",
    "\n",
    "# Renaming columns\n",
    "df_raw.columns = ['ID', 'Family_Size', 'Region', 'Year', 'Age', 'Sex', 'Race', 'Education_Level', 'Highest_Degree', 'BMI', 'Tobacco_Use', 'Total_Personal_Income', 'Uninsured_2018', 'Total_Expenditure', 'Exp_Pocket', 'Exp_Medicare', 'Total_Medicaid', 'Exp_VA', 'Total_Priv_Tri', 'Total_Other']\n",
    "         \n",
    "# Filtering data to just the adults\n",
    "df_trim = df_raw.loc[(df_raw['Age'] > 20)]\n",
    "\n",
    "# Filtering only for insured customers\n",
    "df_trim = df_trim.loc[(df_trim['Uninsured_2018'] == 2)]\n",
    "\n",
    "# Filtering for all valid family sizes\n",
    "df_trim = df_trim.loc[(df_trim['Family_Size'] > 0)]\n",
    "\n",
    "# Filtering for applicable tobacco answers (1=Yes/2=No)\n",
    "df_trim = df_trim.loc[(df_trim['Tobacco_Use'] > 0)]\n",
    "\n",
    "# Removing unnecessary columns\n",
    "df_trim.drop('Year', axis=1, inplace=True)\n",
    "df_trim.drop('Uninsured_2018', axis=1, inplace=True)\n",
    "\n",
    "# Reviewing Dataframe\n",
    "df_trim.head(10)"
   ]
  },
  {
   "cell_type": "code",
   "execution_count": null,
   "id": "30e6281c-534c-479a-aa2c-c1e7f13bbaab",
   "metadata": {},
   "outputs": [],
   "source": [
    "# Trasnferring DataFrame to CSV for mutual use in project\n",
    "df_trim.to_csv(\"./Resources/2018_FYC.csv\", index=None, header=True)"
   ]
  },
  {
   "cell_type": "code",
   "execution_count": null,
   "id": "a2a59fba-0975-45e2-8840-316df4f3e3aa",
   "metadata": {},
   "outputs": [],
   "source": []
  }
 ],
 "metadata": {
  "kernelspec": {
   "display_name": "Python (dev)",
   "language": "python",
   "name": "dev"
  },
  "language_info": {
   "codemirror_mode": {
    "name": "ipython",
    "version": 3
   },
   "file_extension": ".py",
   "mimetype": "text/x-python",
   "name": "python",
   "nbconvert_exporter": "python",
   "pygments_lexer": "ipython3",
   "version": "3.7.11"
  }
 },
 "nbformat": 4,
 "nbformat_minor": 5
}
